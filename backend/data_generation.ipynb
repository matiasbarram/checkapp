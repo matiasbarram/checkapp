{
 "cells": [
  {
   "cell_type": "code",
   "execution_count": 1,
   "id": "407c040e",
   "metadata": {},
   "outputs": [],
   "source": [
    "import time\n",
    "import os\n",
    "\n",
    "import mysql.connector\n",
    "from mysql.connector import Error\n",
    "from faker import Faker\n",
    "Faker.seed(33422)\n",
    "\n",
    "fake = Faker()"
   ]
  },
  {
   "cell_type": "code",
   "execution_count": 5,
   "id": "2628bc77",
   "metadata": {},
   "outputs": [],
   "source": [
    "db_user=\"root\"\n",
    "db_pass=\"root\"\n",
    "db_host=\"127.0.0.1\"\n",
    "#port=3306\n",
    "db_name=\"checkapp\""
   ]
  },
  {
   "cell_type": "code",
   "execution_count": 135,
   "id": "ec0d249a",
   "metadata": {},
   "outputs": [],
   "source": [
    "try:\n",
    "    conn = mysql.connector.connect(host=db_host, database=db_name,\n",
    "                                   user=db_user, password=db_pass)\n",
    "\n",
    "    if conn.is_connected():\n",
    "        cursor = conn.cursor()\n",
    "        row = generate_user_info()\n",
    "        query = \"\"\"INSERT INTO `user` \\\n",
    "        (company_id, name, rut, role, email, password, shift_id, picture) \\\n",
    "        VALUES (%s, %s, %s, %s, %s, %s, %s, %s);\"\"\"\n",
    "        cursor.execute(query, row)\n",
    "\n",
    "        conn.commit()\n",
    "except Error as e :\n",
    "    print (\"error\", e)\n",
    "    pass\n",
    "except Exception as e:\n",
    "    print (\"Unknown error %s\", e)\n",
    "finally:\n",
    "    #closing database connection.\n",
    "    if(conn and conn.is_connected()):\n",
    "        conn.commit()\n",
    "        cursor.close()\n",
    "        conn.close()"
   ]
  },
  {
   "cell_type": "code",
   "execution_count": 8,
   "id": "6cf5159e",
   "metadata": {},
   "outputs": [
    {
     "name": "stdout",
     "output_type": "stream",
     "text": [
      "('attendance',)\n",
      "('company',)\n",
      "('device',)\n",
      "('qr',)\n",
      "('shift',)\n",
      "('user',)\n"
     ]
    }
   ],
   "source": [
    "try:\n",
    "    conn = mysql.connector.connect(host=db_host, database=db_name,\n",
    "                                   user=db_user, password=db_pass)\n",
    "    if conn.is_connected():\n",
    "        cursor = conn.cursor()\n",
    "        q = \"SHOW TABLES;\"\n",
    "        cursor.execute(q)\n",
    "        for table in cursor:\n",
    "            print(table)\n",
    "\n",
    "except Error as e :\n",
    "    print (\"error\", e)\n",
    "    pass\n",
    "except Exception as e:\n",
    "    print (\"Unknown error %s\", e)\n",
    "finally:\n",
    "    #closing database connection.\n",
    "    if(conn and conn.is_connected()):\n",
    "        conn.commit()\n",
    "        cursor.close()\n",
    "        conn.close()"
   ]
  },
  {
   "cell_type": "code",
   "execution_count": null,
   "id": "9fff02ea",
   "metadata": {},
   "outputs": [],
   "source": [
    "'INSERT INTO `user` (company_id, name, rut, role, email, password, shift_id, picture) \\\n",
    "VALUES (\"%s\", \"%s\", \"%s\", %s, \"%s\", \"%s\", \"%s\", \"%s\");'"
   ]
  },
  {
   "cell_type": "code",
   "execution_count": 98,
   "id": "e7d3c52f",
   "metadata": {},
   "outputs": [],
   "source": [
    "import requests\n",
    "import random\n",
    "\n",
    "genders = [\"men\", \"women\"]\n",
    "digito_verificador = list(range(1, 10)) + ['K']\n",
    "ids = set()\n",
    "def get_random_img_bytes(gender):\n",
    "    _id = random.randint(1, 75)\n",
    "    while (gender, _id) in ids:\n",
    "        _id = random.randint(1, 75)\n",
    "    ids.add((gender, _id))\n",
    "    url = f\"https://randomuser.me/api/portraits/{gender}/{_id}.jpg\"    \n",
    "    response = requests.get(url, stream=True)\n",
    "    return response.content"
   ]
  },
  {
   "cell_type": "code",
   "execution_count": 1,
   "id": "1d00ef9b",
   "metadata": {},
   "outputs": [],
   "source": [
    "import hashlib\n",
    "  \n",
    "def get_password_from_email(email):\n",
    "    passw = email.split('@')[0]\n",
    "    return hashlib.md5(passw.encode()).hexdigest()"
   ]
  },
  {
   "cell_type": "code",
   "execution_count": 2,
   "id": "a3d6359d",
   "metadata": {},
   "outputs": [
    {
     "data": {
      "text/plain": [
       "'71e099e35bbc5c5f64abe0c0dda9091d'"
      ]
     },
     "execution_count": 2,
     "metadata": {},
     "output_type": "execute_result"
    }
   ],
   "source": [
    "hashlib.md5(\"cristo\".encode()).hexdigest()"
   ]
  },
  {
   "cell_type": "code",
   "execution_count": 125,
   "id": "21d208c3",
   "metadata": {},
   "outputs": [],
   "source": [
    "def generate_user_info():\n",
    "    gender = random.sample(genders, 1)[0]\n",
    "    if gender == 'men':\n",
    "        name = fake.first_name_male()\n",
    "\n",
    "    else:\n",
    "        name = fake.first_name_female()\n",
    "    name = name + \" \" + fake.last_name()\n",
    "    picture = get_random_img_bytes(gender) \n",
    "    company = random.randint(1, 2)\n",
    "    shift = random.randint(1, 2)\n",
    "    last_name = fake.last_name()\n",
    "    email = fake.email()\n",
    "    password = get_password_from_email(email)\n",
    "    role = \"cringe\"\n",
    "    rut = f\"{random.randint(10 * 10**6, 20 * 10**6)}-{random.sample(digito_verificador, 1)[0]}\"\n",
    "    return (company, name, rut, role, email, password, shift, picture)"
   ]
  },
  {
   "cell_type": "code",
   "execution_count": 154,
   "id": "c5d2131f",
   "metadata": {},
   "outputs": [
    {
     "name": "stdout",
     "output_type": "stream",
     "text": [
      "18\n"
     ]
    }
   ],
   "source": [
    "try:\n",
    "    conn = mysql.connector.connect(host=db_host, database=db_name,\n",
    "                                   user=db_user, password=db_pass)\n",
    "    if conn.is_connected():\n",
    "        cursor = conn.cursor()\n",
    "        _id = 18\n",
    "        q1 = f\"SELECT u.id, u.company_id, u.shift_id FROM user u WHERE u.id = {_id};\"\n",
    "        cursor.execute(q)\n",
    "        for (user_id, company_id, shift_id) in cursor:\n",
    "            pass\n",
    "        print(user_id)        \n",
    "\n",
    "except Error as e :\n",
    "    print (\"error\", e)\n",
    "    pass\n",
    "except Exception as e:\n",
    "    print (\"Unknown error %s\", e)\n",
    "finally:\n",
    "    #closing database connection.\n",
    "    if(conn and conn.is_connected()):\n",
    "        conn.commit()\n",
    "        cursor.close()\n",
    "        conn.close()"
   ]
  },
  {
   "cell_type": "code",
   "execution_count": 223,
   "id": "631fdf7b",
   "metadata": {},
   "outputs": [],
   "source": [
    "from random import randrange\n",
    "from datetime import timedelta, datetime\n",
    "\n",
    "WEEKDAYS = ['monday', 'tuesday', 'wednesday', 'thursday', 'friday', 'saturday', 'sunday']\n",
    "shifts_days = {\n",
    "    1 : ['monday', 'tuesday', 'wednesday', 'thursday', 'friday'],\n",
    "    2 : ['monday', 'tuesday', 'wednesday', 'thursday', 'friday', 'saturday', 'sunday']\n",
    "         }\n",
    "shifts_time = {\n",
    "    1 : [\"09:00:00\", \"17:30:00\"],\n",
    "    2 : [\"06:00:00\", \"19:00:00\"],\n",
    "}\n",
    "\n",
    "def random_date(start):\n",
    "    \"\"\"\n",
    "    This function will return a random datetime between two datetime \n",
    "    objects.\n",
    "    \"\"\"\n",
    "#     delta = end - start\n",
    "#     int_delta = (delta.days * 24 * 60 * 60) + delta.seconds\n",
    "    int_delta = 7000\n",
    "    random_second = randrange(-int_delta//2, int_delta//2)\n",
    "    return start + timedelta(seconds=random_second)\n",
    "\n",
    "def get_attendance_dtime(user_id, shift, day, month):\n",
    "    arrival, leave = shifts_time[shift]\n",
    "    d1 = datetime.strptime(f'2022-{month}-{day} {arrival}', '%Y-%m-%d %H:%M:%S')\n",
    "    if WEEKDAYS[d1.weekday()] not in shifts_days[shift]:\n",
    "        return None\n",
    "    r1 = random_date(d1)\n",
    "    d2 = datetime.strptime(f'2022-{month}-{day} {leave}', '%Y-%m-%d %H:%M:%S')\n",
    "    r2 = random_date(d2)\n",
    "    if (r1 - d1).total_seconds()//60 > 30:\n",
    "        comment_arr = \"LATE_ARRIVAL\"\n",
    "    else:\n",
    "        comment_arr = \"ON_TIME\"\n",
    "    if (d2 - r2).total_seconds()//60 > 30:\n",
    "        comment_leav = \"EARLY_LEAVE\"\n",
    "    else:\n",
    "        comment_leav = \"ON_TIME\"\n",
    "    return [(user_id, \"-40,70\", str(r1), \"CHECK_IN\", False, comment_arr, arrival),\n",
    "           (user_id, \"-40,70\", str(r2), \"CHECK_OUT\", False, comment_leav, leave)]\n",
    "            "
   ]
  },
  {
   "cell_type": "code",
   "execution_count": 224,
   "id": "b1cf4a10",
   "metadata": {},
   "outputs": [
    {
     "name": "stdout",
     "output_type": "stream",
     "text": [
      "[(0, '-40,70', '2022-04-01 05:28:40', 'CHECK_IN', False, 'ON_TIME', '06:00:00'), (0, '-40,70', '2022-04-01 18:06:30', 'CHECK_OUT', False, 'EARLY_LEAVE', '19:00:00')]\n",
      "[(0, '-40,70', '2022-04-02 06:54:19', 'CHECK_IN', False, 'LATE_ARRIVAL', '06:00:00'), (0, '-40,70', '2022-04-02 19:32:24', 'CHECK_OUT', False, 'ON_TIME', '19:00:00')]\n",
      "[(0, '-40,70', '2022-04-03 05:59:31', 'CHECK_IN', False, 'ON_TIME', '06:00:00'), (0, '-40,70', '2022-04-03 19:15:20', 'CHECK_OUT', False, 'ON_TIME', '19:00:00')]\n",
      "[(0, '-40,70', '2022-04-04 05:48:49', 'CHECK_IN', False, 'ON_TIME', '06:00:00'), (0, '-40,70', '2022-04-04 19:21:22', 'CHECK_OUT', False, 'ON_TIME', '19:00:00')]\n",
      "[(0, '-40,70', '2022-04-05 05:34:42', 'CHECK_IN', False, 'ON_TIME', '06:00:00'), (0, '-40,70', '2022-04-05 18:14:35', 'CHECK_OUT', False, 'EARLY_LEAVE', '19:00:00')]\n",
      "[(0, '-40,70', '2022-04-06 06:46:47', 'CHECK_IN', False, 'LATE_ARRIVAL', '06:00:00'), (0, '-40,70', '2022-04-06 18:02:09', 'CHECK_OUT', False, 'EARLY_LEAVE', '19:00:00')]\n",
      "[(0, '-40,70', '2022-04-07 06:22:03', 'CHECK_IN', False, 'ON_TIME', '06:00:00'), (0, '-40,70', '2022-04-07 19:35:20', 'CHECK_OUT', False, 'ON_TIME', '19:00:00')]\n",
      "[(0, '-40,70', '2022-04-08 05:51:31', 'CHECK_IN', False, 'ON_TIME', '06:00:00'), (0, '-40,70', '2022-04-08 19:54:41', 'CHECK_OUT', False, 'ON_TIME', '19:00:00')]\n",
      "[(0, '-40,70', '2022-04-09 06:56:14', 'CHECK_IN', False, 'LATE_ARRIVAL', '06:00:00'), (0, '-40,70', '2022-04-09 18:28:28', 'CHECK_OUT', False, 'EARLY_LEAVE', '19:00:00')]\n",
      "[(0, '-40,70', '2022-04-10 06:20:27', 'CHECK_IN', False, 'ON_TIME', '06:00:00'), (0, '-40,70', '2022-04-10 18:40:37', 'CHECK_OUT', False, 'ON_TIME', '19:00:00')]\n",
      "[(0, '-40,70', '2022-04-11 05:06:14', 'CHECK_IN', False, 'ON_TIME', '06:00:00'), (0, '-40,70', '2022-04-11 19:51:58', 'CHECK_OUT', False, 'ON_TIME', '19:00:00')]\n",
      "[(0, '-40,70', '2022-04-12 06:34:16', 'CHECK_IN', False, 'LATE_ARRIVAL', '06:00:00'), (0, '-40,70', '2022-04-12 19:38:36', 'CHECK_OUT', False, 'ON_TIME', '19:00:00')]\n",
      "[(0, '-40,70', '2022-04-13 05:50:10', 'CHECK_IN', False, 'ON_TIME', '06:00:00'), (0, '-40,70', '2022-04-13 18:41:58', 'CHECK_OUT', False, 'ON_TIME', '19:00:00')]\n",
      "[(0, '-40,70', '2022-04-14 06:56:54', 'CHECK_IN', False, 'LATE_ARRIVAL', '06:00:00'), (0, '-40,70', '2022-04-14 19:12:31', 'CHECK_OUT', False, 'ON_TIME', '19:00:00')]\n",
      "[(0, '-40,70', '2022-04-15 05:45:47', 'CHECK_IN', False, 'ON_TIME', '06:00:00'), (0, '-40,70', '2022-04-15 18:10:38', 'CHECK_OUT', False, 'EARLY_LEAVE', '19:00:00')]\n",
      "[(0, '-40,70', '2022-04-16 06:03:05', 'CHECK_IN', False, 'ON_TIME', '06:00:00'), (0, '-40,70', '2022-04-16 19:51:27', 'CHECK_OUT', False, 'ON_TIME', '19:00:00')]\n",
      "[(0, '-40,70', '2022-04-17 05:23:12', 'CHECK_IN', False, 'ON_TIME', '06:00:00'), (0, '-40,70', '2022-04-17 18:47:48', 'CHECK_OUT', False, 'ON_TIME', '19:00:00')]\n",
      "[(0, '-40,70', '2022-04-18 06:39:52', 'CHECK_IN', False, 'LATE_ARRIVAL', '06:00:00'), (0, '-40,70', '2022-04-18 19:36:14', 'CHECK_OUT', False, 'ON_TIME', '19:00:00')]\n",
      "[(0, '-40,70', '2022-04-19 06:36:56', 'CHECK_IN', False, 'LATE_ARRIVAL', '06:00:00'), (0, '-40,70', '2022-04-19 18:20:38', 'CHECK_OUT', False, 'EARLY_LEAVE', '19:00:00')]\n",
      "[(0, '-40,70', '2022-04-20 05:09:45', 'CHECK_IN', False, 'ON_TIME', '06:00:00'), (0, '-40,70', '2022-04-20 18:41:17', 'CHECK_OUT', False, 'ON_TIME', '19:00:00')]\n",
      "[(0, '-40,70', '2022-04-21 05:33:08', 'CHECK_IN', False, 'ON_TIME', '06:00:00'), (0, '-40,70', '2022-04-21 18:25:50', 'CHECK_OUT', False, 'EARLY_LEAVE', '19:00:00')]\n",
      "[(0, '-40,70', '2022-04-22 06:32:08', 'CHECK_IN', False, 'LATE_ARRIVAL', '06:00:00'), (0, '-40,70', '2022-04-22 19:30:47', 'CHECK_OUT', False, 'ON_TIME', '19:00:00')]\n",
      "[(0, '-40,70', '2022-04-23 06:03:20', 'CHECK_IN', False, 'ON_TIME', '06:00:00'), (0, '-40,70', '2022-04-23 18:24:57', 'CHECK_OUT', False, 'EARLY_LEAVE', '19:00:00')]\n",
      "[(0, '-40,70', '2022-04-24 06:56:25', 'CHECK_IN', False, 'LATE_ARRIVAL', '06:00:00'), (0, '-40,70', '2022-04-24 18:13:24', 'CHECK_OUT', False, 'EARLY_LEAVE', '19:00:00')]\n",
      "[(0, '-40,70', '2022-04-25 05:04:07', 'CHECK_IN', False, 'ON_TIME', '06:00:00'), (0, '-40,70', '2022-04-25 19:27:10', 'CHECK_OUT', False, 'ON_TIME', '19:00:00')]\n",
      "[(0, '-40,70', '2022-04-26 05:50:10', 'CHECK_IN', False, 'ON_TIME', '06:00:00'), (0, '-40,70', '2022-04-26 19:21:35', 'CHECK_OUT', False, 'ON_TIME', '19:00:00')]\n",
      "[(0, '-40,70', '2022-04-27 05:24:20', 'CHECK_IN', False, 'ON_TIME', '06:00:00'), (0, '-40,70', '2022-04-27 18:18:46', 'CHECK_OUT', False, 'EARLY_LEAVE', '19:00:00')]\n",
      "[(0, '-40,70', '2022-04-28 05:44:44', 'CHECK_IN', False, 'ON_TIME', '06:00:00'), (0, '-40,70', '2022-04-28 19:46:44', 'CHECK_OUT', False, 'ON_TIME', '19:00:00')]\n",
      "[(0, '-40,70', '2022-04-29 06:52:38', 'CHECK_IN', False, 'LATE_ARRIVAL', '06:00:00'), (0, '-40,70', '2022-04-29 19:45:40', 'CHECK_OUT', False, 'ON_TIME', '19:00:00')]\n"
     ]
    }
   ],
   "source": [
    "for i in range(1, 30):\n",
    "    print(get_attendance_dtime(0, 2, i, 4))"
   ]
  },
  {
   "cell_type": "code",
   "execution_count": 225,
   "id": "734859a6",
   "metadata": {},
   "outputs": [],
   "source": [
    "qatt = \"\"\"INSERT INTO attendance \\\n",
    "    (user_id, location, event_time, event_type, pending, comments, expected_time) \\\n",
    "    VALUES (%s, %s, %s, %s, %s, %s, %s);\"\"\""
   ]
  },
  {
   "cell_type": "code",
   "execution_count": 229,
   "id": "36bfacea",
   "metadata": {},
   "outputs": [
    {
     "name": "stdout",
     "output_type": "stream",
     "text": [
      "18\n",
      "19\n",
      "20\n",
      "21\n",
      "22\n",
      "23\n",
      "24\n",
      "25\n",
      "26\n",
      "27\n"
     ]
    }
   ],
   "source": [
    "try:\n",
    "    conn = mysql.connector.connect(host=db_host, database=db_name,\n",
    "                                   user=db_user, password=db_pass)\n",
    "    if conn.is_connected():\n",
    "        cursor = conn.cursor()\n",
    "        for _id in range(18, 28):\n",
    "            q1 = f\"SELECT u.id, u.company_id, u.shift_id FROM user u WHERE u.id = {_id};\"\n",
    "            cursor.execute(q1)\n",
    "            for (user_id, company_id, shift_id) in cursor:\n",
    "                pass\n",
    "            print(user_id)\n",
    "            for day in range(1, 5):\n",
    "                atts = get_attendance_dtime(user_id, shift_id, day, 5)\n",
    "                if atts:\n",
    "                    for att in atts:\n",
    "                        cursor.execute(qatt, att)\n",
    "\n",
    "except Error as e :\n",
    "    print (\"error\", e)\n",
    "    pass\n",
    "except Exception as e:\n",
    "    print (\"Unknown error %s\", e)\n",
    "finally:\n",
    "    #closing database connection.\n",
    "    if(conn and conn.is_connected()):\n",
    "        conn.commit()\n",
    "        cursor.close()\n",
    "        conn.close()"
   ]
  },
  {
   "cell_type": "code",
   "execution_count": null,
   "id": "2ee8e5d8",
   "metadata": {},
   "outputs": [],
   "source": []
  }
 ],
 "metadata": {
  "kernelspec": {
   "display_name": "Python 3 (ipykernel)",
   "language": "python",
   "name": "python3"
  },
  "language_info": {
   "codemirror_mode": {
    "name": "ipython",
    "version": 3
   },
   "file_extension": ".py",
   "mimetype": "text/x-python",
   "name": "python",
   "nbconvert_exporter": "python",
   "pygments_lexer": "ipython3",
   "version": "3.9.7"
  }
 },
 "nbformat": 4,
 "nbformat_minor": 5
}
